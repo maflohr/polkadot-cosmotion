{
 "cells": [
  {
   "cell_type": "code",
   "execution_count": null,
   "metadata": {
    "dotnet_interactive": {
     "language": "csharp"
    },
    "polyglot_notebook": {
     "kernelName": "csharp"
    }
   },
   "outputs": [],
   "source": [
    "#r \"nuget:MyMediaLite\""
   ]
  },
  {
   "cell_type": "code",
   "execution_count": null,
   "metadata": {
    "dotnet_interactive": {
     "language": "csharp"
    },
    "polyglot_notebook": {
     "kernelName": "csharp"
    }
   },
   "outputs": [],
   "source": [
    "using System.IO;\n",
    "using MyMediaLite.Data;\n",
    "\n",
    "var ratings = File.ReadAllLines(\"data/ratings.csv\")\n",
    "    .Skip(1)\n",
    "    .Select(line => line.Split(','))\n",
    "    .Select(line => new { User = line[0].ToString(), Item = line[1].ToString(), Rating = Int32.Parse(line[2]) })\n",
    "    .ToList();\n",
    "\n",
    "var userIndex = new Dictionary<string, int>();\n",
    "var itemIndex = new Dictionary<string, int>();\n",
    "\n",
    "var userIDs = ratings.Select(r => r.User).Distinct();\n",
    "var itemIDs = ratings.Select(r => r.Item).Distinct();\n",
    "\n",
    "var userCount = 0;\n",
    "var itemCount = 0;\n",
    "\n",
    "foreach (var user in userIDs)\n",
    "{\n",
    "    userIndex.Add(user, userCount);\n",
    "    userCount++;\n",
    "}\n",
    "\n",
    "foreach (var item in itemIDs)\n",
    "{\n",
    "    itemIndex.Add(item, itemCount);\n",
    "    itemCount++;\n",
    "}"
   ]
  },
  {
   "cell_type": "code",
   "execution_count": null,
   "metadata": {
    "dotnet_interactive": {
     "language": "csharp"
    },
    "polyglot_notebook": {
     "kernelName": "csharp"
    }
   },
   "outputs": [],
   "source": [
    "var training = new Ratings();\n",
    "var test = new Ratings();\n",
    "\n",
    "var random = new Random();\n",
    "\n",
    "foreach (var rating in ratings)\n",
    "{\n",
    "    if (random.Next(0, 100) < 80)\n",
    "    {\n",
    "        training.Add(userIndex[rating.User], itemIndex[rating.Item], rating.Rating);\n",
    "    }\n",
    "    else\n",
    "    {\n",
    "        test.Add(userIndex[rating.User], itemIndex[rating.Item], rating.Rating);\n",
    "    }\n",
    "}"
   ]
  },
  {
   "cell_type": "code",
   "execution_count": null,
   "metadata": {
    "dotnet_interactive": {
     "language": "csharp"
    },
    "polyglot_notebook": {
     "kernelName": "csharp"
    }
   },
   "outputs": [],
   "source": [
    "Console.WriteLine(training.AllItems.Count());\n",
    "Console.WriteLine(training.AllUsers.Count());"
   ]
  },
  {
   "cell_type": "code",
   "execution_count": null,
   "metadata": {
    "dotnet_interactive": {
     "language": "csharp"
    },
    "polyglot_notebook": {
     "kernelName": "csharp"
    }
   },
   "outputs": [],
   "source": [
    "using MyMediaLite.RatingPrediction;\n",
    "\n",
    "var recommender = new SVDPlusPlus()\n",
    "{\n",
    "    Ratings = training,\n",
    "    NumIter = 20,\n",
    "    NumFactors = 20\n",
    "};\n",
    "\n",
    "recommender.Train();"
   ]
  },
  {
   "cell_type": "code",
   "execution_count": null,
   "metadata": {
    "dotnet_interactive": {
     "language": "csharp"
    },
    "polyglot_notebook": {
     "kernelName": "csharp"
    }
   },
   "outputs": [],
   "source": [
    "using MyMediaLite.Eval;\n",
    "\n",
    "var results = recommender.Evaluate(test);\n",
    "\n",
    "Console.WriteLine(\"RMSE={0} MAE={1}\", results[\"RMSE\"], results[\"MAE\"]);\n",
    "Console.WriteLine(results);"
   ]
  }
 ],
 "metadata": {
  "kernelspec": {
   "display_name": ".NET (C#)",
   "language": "C#",
   "name": ".net-csharp"
  },
  "polyglot_notebook": {
   "kernelInfo": {
    "defaultKernelName": "csharp",
    "items": [
     {
      "aliases": [
       "c#",
       "C#"
      ],
      "languageName": "C#",
      "name": "csharp"
     },
     {
      "aliases": [
       "frontend"
      ],
      "name": "vscode"
     },
     {
      "aliases": [],
      "name": ".NET"
     },
     {
      "aliases": [
       "f#",
       "F#"
      ],
      "languageName": "F#",
      "name": "fsharp"
     },
     {
      "aliases": [],
      "languageName": "HTML",
      "name": "html"
     },
     {
      "aliases": [],
      "languageName": "KQL",
      "name": "kql"
     },
     {
      "aliases": [],
      "languageName": "Mermaid",
      "name": "mermaid"
     },
     {
      "aliases": [
       "powershell"
      ],
      "languageName": "PowerShell",
      "name": "pwsh"
     },
     {
      "aliases": [],
      "languageName": "SQL",
      "name": "sql"
     },
     {
      "aliases": [],
      "name": "value"
     },
     {
      "aliases": [
       "js"
      ],
      "languageName": "JavaScript",
      "name": "javascript"
     },
     {
      "aliases": [],
      "name": "webview"
     }
    ]
   }
  }
 },
 "nbformat": 4,
 "nbformat_minor": 2
}
